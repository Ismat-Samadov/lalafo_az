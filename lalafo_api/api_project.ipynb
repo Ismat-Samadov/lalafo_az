{
 "cells": [
  {
   "cell_type": "code",
   "execution_count": 1,
   "id": "b967f150-a8a4-4dcc-980d-3009298c8ff9",
   "metadata": {
    "tags": []
   },
   "outputs": [],
   "source": [
    "import pandas as pd"
   ]
  },
  {
   "cell_type": "code",
   "execution_count": 23,
   "id": "48c596a1-5705-4a07-8fa8-6d32e6216485",
   "metadata": {
    "tags": []
   },
   "outputs": [
    {
     "data": {
      "text/html": [
       "<div>\n",
       "<style scoped>\n",
       "    .dataframe tbody tr th:only-of-type {\n",
       "        vertical-align: middle;\n",
       "    }\n",
       "\n",
       "    .dataframe tbody tr th {\n",
       "        vertical-align: top;\n",
       "    }\n",
       "\n",
       "    .dataframe thead th {\n",
       "        text-align: right;\n",
       "    }\n",
       "</style>\n",
       "<table border=\"1\" class=\"dataframe\">\n",
       "  <thead>\n",
       "    <tr style=\"text-align: right;\">\n",
       "      <th></th>\n",
       "      <th>url</th>\n",
       "      <th>Mobile Number</th>\n",
       "    </tr>\n",
       "  </thead>\n",
       "  <tbody>\n",
       "    <tr>\n",
       "      <th>495</th>\n",
       "      <td>/baku/ads/carpayi-yaxwi-veziyyetde-hec-bir-pra...</td>\n",
       "      <td>9.945587e+11</td>\n",
       "    </tr>\n",
       "    <tr>\n",
       "      <th>496</th>\n",
       "      <td>/baku/ads/soyuducu-satilir-220-azn-tz-alinib-u...</td>\n",
       "      <td>9.945062e+11</td>\n",
       "    </tr>\n",
       "    <tr>\n",
       "      <th>497</th>\n",
       "      <td>/baku/ads/kisi-koyneyi-turkiyeden-alinib-marka...</td>\n",
       "      <td>NaN</td>\n",
       "    </tr>\n",
       "    <tr>\n",
       "      <th>498</th>\n",
       "      <td>/baku/ads/svejnye-masiny-id-85614130</td>\n",
       "      <td>9.945571e+11</td>\n",
       "    </tr>\n",
       "    <tr>\n",
       "      <th>499</th>\n",
       "      <td>/baku/ads/masin-tmird-olmayib-tam-sessiz-islyi...</td>\n",
       "      <td>9.945134e+11</td>\n",
       "    </tr>\n",
       "  </tbody>\n",
       "</table>\n",
       "</div>"
      ],
      "text/plain": [
       "                                                   url  Mobile Number\n",
       "495  /baku/ads/carpayi-yaxwi-veziyyetde-hec-bir-pra...   9.945587e+11\n",
       "496  /baku/ads/soyuducu-satilir-220-azn-tz-alinib-u...   9.945062e+11\n",
       "497  /baku/ads/kisi-koyneyi-turkiyeden-alinib-marka...            NaN\n",
       "498               /baku/ads/svejnye-masiny-id-85614130   9.945571e+11\n",
       "499  /baku/ads/masin-tmird-olmayib-tam-sessiz-islyi...   9.945134e+11"
      ]
     },
     "execution_count": 23,
     "metadata": {},
     "output_type": "execute_result"
    }
   ],
   "source": [
    "data_csv=pd.read_csv(r'data.csv')\n",
    "data_csv.tail()"
   ]
  },
  {
   "cell_type": "code",
   "execution_count": 24,
   "id": "123e616e-48fc-4e73-a8ff-29cf6d8d0e29",
   "metadata": {
    "tags": []
   },
   "outputs": [
    {
     "data": {
      "text/plain": [
       "0     /baku/ads/trenajor-ideal-veziyyetdedir-cox-key...\n",
       "1     /baku/ads/trenajorlar-ideal-veziyyetdedir-cox-...\n",
       "2     /barda/ads/iphone-11-256-gb-qara-face-id-id-85...\n",
       "3     /baku/ads/ev-gnclik-metrosuna-10-dq-msafd-yerl...\n",
       "4     /baku/ads/burda-yazillan-qiymetler-sertidir-he...\n",
       "5                    /baku/ads/isiqlandirma-id-91620283\n",
       "6     /baku/ads/adamo-s-eu-36-m-eu-38-color-black-id...\n",
       "7     /baku/ads/trenajor-ideal-veziyyetdedir-cox-key...\n",
       "8     /baku/ads/burda-yazillan-qiymetler-sertidir-he...\n",
       "9     /baku/ads/trenajorlar-teze-kimidir-her-modelde...\n",
       "10             /baku/ads/manikenler-satilir-id-85614084\n",
       "11    /baku/ads/trenajor-ideal-veziyyetdedir-cox-key...\n",
       "12    /baku/ads/trenajor-ideal-veziyyetdedir-cox-key...\n",
       "13    /baku/ads/rul-cube-aim-pronub-ruludu-rulda-bir...\n",
       "14    /gyandzha/ads/coxdandi-surulmur-razilasma-yolu...\n",
       "15    /baku/ads/trenajorlar-teze-kimidir-her-modelde...\n",
       "16    /baku/ads/iphone-11-pro-64-gb-qizili-barmaq-iz...\n",
       "17    /baku/ads/trenajor-ideal-veziyyetdedir-cox-key...\n",
       "18    /baku/ads/trenajor-ideal-veziyyetdedir-cox-key...\n",
       "19    /baku/ads/trenajorlar-alman-texnologiyasidir-v...\n",
       "20    /baku/ads/trenajor-tam-orginal-maldir-orginal-...\n",
       "21    /baku/ads/burda-yazillan-qiymetler-sertidir-he...\n",
       "22    /baku/ads/kondisaner-45-kv-ela-veziyyetde-prab...\n",
       "23    /baku/ads/mi-a2-lite-prablemi-yoxdu-ekranda-cu...\n",
       "24    /baku/ads/l-blender-tefal-yeni-pulsuz-catdiril...\n",
       "25    /baku/ads/burda-yazillan-qiymetler-sertidir-he...\n",
       "26    /baku/ads/trenajor-tam-orginal-maldir-orginal-...\n",
       "27    /baku/ads/tbiimhsulayoxdem-cki-84-q-siz-qaygi-...\n",
       "28    /baku/ads/burda-yazillan-qiymetler-sertidir-he...\n",
       "29    /baku/ads/orginal-alman-trenajorlaridir-munasi...\n",
       "30    /baku/ads/chevrolet-aveo-14-l-2012-il-199896-k...\n",
       "31    /baku/ads/burda-yazillan-qiymetler-sertidir-he...\n",
       "32         /baku/ads/intel-core-i5-4-gb-156-id-89247374\n",
       "33    /baku/ads/10-gr-585-pr-tezediqiymet-barede-yaz...\n",
       "34    /baku/ads/satis-uzr-menecerlr-61-yasamal-r-r-n...\n",
       "35    /baku/ads/cilciraq-130aznxrustaldi-unvan-xetai...\n",
       "36                    /baku/ads/soyuducular-id-92808497\n",
       "37    /baku/ads/4-otaqli-160-kv-m-kredit-yoxdur-yeni...\n",
       "38    /baku/ads/global-hotel-baku-ekonom-otaq-30-azn...\n",
       "39                               /baku/ads/-id-85614181\n",
       "40           /baku/ads/bitkilr-ucun-dibcklr-id-96388390\n",
       "41    /baku/ads/1-ay-islnib-tk-nfr-isldib-la-vziyytd...\n",
       "42    /baku/ads/4-qruprus-bolmesi-ucun-test-toplular...\n",
       "43              /baku/ads/15-azn-s-m-razmer-id-90165932\n",
       "44    /baku/ads/soyuducu-satilir-220-azn-tz-alinib-u...\n",
       "45    /baku/ads/carpayi-yaxwi-veziyyetde-hec-bir-pra...\n",
       "46    /baku/ads/soyuducu-satilir-220-azn-tz-alinib-u...\n",
       "47    /baku/ads/kisi-koyneyi-turkiyeden-alinib-marka...\n",
       "48                 /baku/ads/svejnye-masiny-id-85614130\n",
       "49    /baku/ads/masin-tmird-olmayib-tam-sessiz-islyi...\n",
       "Name: url, dtype: object"
      ]
     },
     "execution_count": 24,
     "metadata": {},
     "output_type": "execute_result"
    }
   ],
   "source": [
    "data_csv['url'].drop_duplicates(ignore_index=True)"
   ]
  },
  {
   "cell_type": "code",
   "execution_count": 16,
   "id": "5f6419d5-3aeb-4cf8-bf0e-ad72bd2bd9db",
   "metadata": {
    "tags": []
   },
   "outputs": [
    {
     "data": {
      "text/plain": [
       "0     994774505028\n",
       "1     994503683633\n",
       "2     994555599975\n",
       "3     994558859890\n",
       "4     994557838031\n",
       "5     994552221208\n",
       "6     994508614362\n",
       "7     994514604466\n",
       "8     994702190819\n",
       "9     994508998503\n",
       "10    994517066703\n",
       "11    994777767676\n",
       "12    994557370828\n",
       "13    994775716559\n",
       "14    994507323525\n",
       "15    994774498500\n",
       "16    994558727149\n",
       "17    994773021904\n",
       "18    994507287778\n",
       "19    994773299996\n",
       "20    994553489354\n",
       "Name: Mobile Number, dtype: int64"
      ]
     },
     "execution_count": 16,
     "metadata": {},
     "output_type": "execute_result"
    }
   ],
   "source": [
    "data_csv['Mobile Number'].drop_duplicates(ignore_index=True)"
   ]
  }
 ],
 "metadata": {
  "kernelspec": {
   "display_name": "Python 3 (ipykernel)",
   "language": "python",
   "name": "python3"
  },
  "language_info": {
   "codemirror_mode": {
    "name": "ipython",
    "version": 3
   },
   "file_extension": ".py",
   "mimetype": "text/x-python",
   "name": "python",
   "nbconvert_exporter": "python",
   "pygments_lexer": "ipython3",
   "version": "3.10.12"
  }
 },
 "nbformat": 4,
 "nbformat_minor": 5
}
